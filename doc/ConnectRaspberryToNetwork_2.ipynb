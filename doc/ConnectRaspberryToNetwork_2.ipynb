{
 "cells": [
  {
   "cell_type": "markdown",
   "metadata": {},
   "source": [
    "# Connect the RaspberryPi to your WiFi\n",
    "\n",
    "This can be achieved through multiple ways.\n",
    "\n",
    "#### a. The easy way\n",
    "Just plug the Raspberry into a display and configure it from there. For this you will have to modify `wpa_supplicant.conf` file.\n",
    "\n",
    "1.Open the config file where the login data for the networks are:\n",
    "\n",
    "```bash\n",
    "     sudo nano /etc/wpa_supplicant/wpa_supplicant.conf \n",
    "```\n",
    "\n",
    "2.Add your network information to the end of the file:\n",
    "```\n",
    "network={\n",
    "    ssid=\"Type wour SSID Here, between quotes\"\n",
    "    psk=\"Type yor password here, between quotes\"\n",
    "    key_mgmt=WPA-PSK\n",
    "}\n",
    "\n",
    "```\n",
    "After that, save the file and exit. You can do this with the following sequence of commands: `CTRL+X` -> `Y` -> `Enter`.\n",
    "If everything is ok, the Pi should connect to your Wi-Fi.\n",
    "\n",
    "**`Note:`** if you use the GUI version of Raspbian, you can just click the WIFI sign in the taskbar, select the network and put in your password."
   ]
  },
  {
   "cell_type": "markdown",
   "metadata": {},
   "source": [
    "#### b.The not-so-easy way\n",
    "\n",
    "If you do not have access to a display, you can set up your Pi by connectig it to a router via a network cable and configure it through a SSH connection. If this is the case for you, do not despair, I strongly recommend reading SSH tutorial and after that, come back here.\n",
    "\n",
    "So, to set up your WiFi, you will have to connect your RaspberryPi via a network cable to your router and connect via a SSH session. To find out what your Raspberry IP is, you will have to connect to your router and get it from there. After you have connected via SSH, you will have to follow the steps at point a)."
   ]
  },
  {
   "cell_type": "code",
   "execution_count": null,
   "metadata": {},
   "outputs": [],
   "source": []
  }
 ],
 "metadata": {
  "kernelspec": {
   "display_name": "Python 3",
   "language": "python",
   "name": "python3"
  },
  "language_info": {
   "codemirror_mode": {
    "name": "ipython",
    "version": 3
   },
   "file_extension": ".py",
   "mimetype": "text/x-python",
   "name": "python",
   "nbconvert_exporter": "python",
   "pygments_lexer": "ipython3",
   "version": "3.6.7"
  }
 },
 "nbformat": 4,
 "nbformat_minor": 2
}
