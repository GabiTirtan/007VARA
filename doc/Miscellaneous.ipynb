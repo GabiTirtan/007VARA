{
 "cells": [
  {
   "cell_type": "markdown",
   "metadata": {},
   "source": [
    "# Miscellaneous\n",
    "\n",
    "In this notebook you will find some tips from us that we consider usefull."
   ]
  },
  {
   "cell_type": "markdown",
   "metadata": {},
   "source": [
    "## How to find the IP of your Raspberry?\n",
    "\n",
    "There are 2 ways of finding out:\n",
    "   1. Running the command `ifconfig`. This will prompt you with all the network informations that you want. Additionally if you want the information for just one adapter, you can specify that. Example: for the Wifi adapter, that will be:`ifconfig wlan0`\n",
    "   \n",
    "   2. By logging into your router and seeing its IP from there.\n",
    "    "
   ]
  },
  {
   "cell_type": "code",
   "execution_count": null,
   "metadata": {},
   "outputs": [],
   "source": []
  }
 ],
 "metadata": {
  "kernelspec": {
   "display_name": "Python 3",
   "language": "python",
   "name": "python3"
  },
  "language_info": {
   "codemirror_mode": {
    "name": "ipython",
    "version": 3
   },
   "file_extension": ".py",
   "mimetype": "text/x-python",
   "name": "python",
   "nbconvert_exporter": "python",
   "pygments_lexer": "ipython3",
   "version": "3.6.7"
  }
 },
 "nbformat": 4,
 "nbformat_minor": 2
}
