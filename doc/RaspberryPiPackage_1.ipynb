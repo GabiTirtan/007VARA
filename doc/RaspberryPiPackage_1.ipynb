{
 "cells": [
  {
   "cell_type": "markdown",
   "metadata": {},
   "source": [
    "# RaspberryPi Package\n",
    "\n",
    "This is a general overview of the RaspberryPi package that you have received from us.\n",
    "\n",
    "The includes has:\n",
    "    - Raspberry Pi Model 3 B+\n",
    "    - PiCamera V2.0 \n",
    "    - SD Card 16GB\n",
    "    - ribbon cable\n",
    " "
   ]
  },
  {
   "cell_type": "markdown",
   "metadata": {},
   "source": [
    "## Raspberry Pi Model 3 B+"
   ]
  },
  {
   "cell_type": "markdown",
   "metadata": {},
   "source": [
    "The link to the manufacturer site can be found [here](https://www.raspberrypi.org/products/raspberry-pi-3-model-b-plus/)\n",
    "\n",
    "### Technical specifications:\n",
    "   - Broadcom BCM2837B0, Cortex-A53 (ARMv8) 64-bit SoC @ 1.4GHz\n",
    "   - 1GB LPDDR2 SDRAM\n",
    "   - 2.4GHz and 5GHz IEEE 802.11.b/g/n/ac wireless LAN, Bluetooth 4.2, BLE\n",
    "   - Gigabit Ethernet over USB 2.0 (max 300 Mbps)\n",
    "   - 40-pin GPIO header\n",
    "   - HDMI- 4 USB 2.0\n",
    "   - CSI camera port for PiCamera\n",
    "   - DSI display port for touchscreen display\n",
    "   - 4-pole stereo output and composite video port\n",
    "   - Micro SD slot\n",
    "   - 5V/2.5A DC power input"
   ]
  },
  {
   "cell_type": "markdown",
   "metadata": {},
   "source": [
    "### OS :\n",
    "   You will have 2 options to choose from:\n",
    "      - Raspbian\n",
    "      - Raspbian Lite(no GUI).\n",
    "        \n",
    "   Each option has enabled the SSH, GPIOs, Serial Communications, Camera feautures.\n",
    "   The GUI version has also the VNC server enabled.\n",
    "        \n",
    "#### Specifications:\n",
    "   - Version: October 2018\n",
    "   - Release date: 2018-10-09\n",
    "   - Kernel version: 4.14\n",
    "\n",
    "#### Login: \n",
    "The default user and password that came from us are:\n",
    "   - **user:** pi\n",
    "   - **password:** raspberry\n",
    "\n",
    "#### Installed Programs:\n",
    "- cMake 3.7.2\n",
    "- build essentials\n",
    "- Python 2.7.13\n",
    "    - Numpy 1.15.4\n",
    "    - PiCamera 1.13\n",
    "    - OpenCV\n",
    "- Python 3.5.3\n",
    "    - Numpy 1.15.4\n",
    "    - PiCamera 1.13\n",
    "    - PiSerial\n",
    "    - OpenCV\n",
    "- OpenCV 3.4.1\n",
    "- ROS Kinetic\n",
    "        \n",
    "Additionally,we encourage you to install anything you want on the Raspberry.\n",
    "\n",
    "\n",
    "        \n",
    "    "
   ]
  },
  {
   "cell_type": "markdown",
   "metadata": {},
   "source": [
    " # PiCamera Module v2"
   ]
  },
  {
   "cell_type": "markdown",
   "metadata": {},
   "source": [
    "The v2 Camera Module has a Sony IMX219 8-megapixel sensor.\n",
    "It supports 1080p30, 720p60 and VGA90 video modes, as well as still capture. \n",
    "It attaches via a ribbon cable to the CSI port on the Raspberry Pi.\n",
    "It can be accessed through the MMAL and V4L APIs.\n",
    "\n",
    "We encourage you to use the Picamera library."
   ]
  }
 ],
 "metadata": {
  "kernelspec": {
   "display_name": "Python 3",
   "language": "python",
   "name": "python3"
  },
  "language_info": {
   "codemirror_mode": {
    "name": "ipython",
    "version": 3
   },
   "file_extension": ".py",
   "mimetype": "text/x-python",
   "name": "python",
   "nbconvert_exporter": "python",
   "pygments_lexer": "ipython3",
   "version": "3.6.7"
  }
 },
 "nbformat": 4,
 "nbformat_minor": 2
}
