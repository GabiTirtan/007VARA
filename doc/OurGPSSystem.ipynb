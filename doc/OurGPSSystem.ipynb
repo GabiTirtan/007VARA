{
 "cells": [
  {
   "cell_type": "markdown",
   "metadata": {},
   "source": [
    "# Our GPS System\n",
    "\n",
    "In this notebook I am going to explain you the basics of our GPS system, how it is build and how to listen to what it broadcasts.\n"
   ]
  },
  {
   "cell_type": "markdown",
   "metadata": {},
   "source": [
    "## What is GPS?\n",
    "\n",
    "The formal definition:\n",
    "> The Global Positioning System (GPS) is an utility that provides users with positioning, navigation, and timing services. The system consists of three segments: the space segment, the control segment, and the user segment.\n",
    "\n",
    "The informal deffinition:\n",
    "> Someting that determines where you are."
   ]
  },
  {
   "cell_type": "markdown",
   "metadata": {},
   "source": [
    "## Architecture\n",
    "\n",
    "Our GPS is a camera-based centralized system wich is able to detect the position of your car by detecting the position of the attached Aruco marker. \n",
    "\n",
    "It has 3 major components:\n",
    "- **client car** = a competition car with a Aruco marker attached to it\n",
    "\n",
    "- **node** = a RaspberryPi with a PiCamera attached to it, placed at a certain height that allows the surveilance of a certain region of the competition track\n",
    "\n",
    "- **server node** = a node to whom the client car and all the other nodes are connected. It collects and processes all the data from the other nodes. It brodcasts 2 messages at a certain rate: that it is the server and the ID, position and orientation of your Aruco Marker.  \n",
    "\n",
    "All of th eabove components have to be connected to the same network. To access the information provided by the system, you will have to authenticate from `your car` to the `server node`. The server node can change at every moment, being able to be replaced by any other node wich will become the new server. The server combines all the coordinate systems of the nodes in one unified coordinate system and computes the exact position of your car. \n",
    "\n",
    "The messages from the server are transmitted as follow:\n",
    "    - the 'I am the server' message is broadcasted on the `NEGOTIATION_PORT` by the server to all the devices connected to the network via the UDP protocol\n",
    "    - the message with the ID, position and orientation will be transmitted to your car \n",
    "\n",
    "###  How are the position and orientation computed?\n",
    "\n",
    " - **position** is denoted by the bottom left of your Aruco marker. The position will be transmitted in the global coordinate system\n",
    "\n",
    " - **orientation** is a vector specified by the bottom-corners of the Aruco marker. The orientation vector is perpendicular to the right side of the car.\n",
    "\n",
    "<img src=\"./images/gps2.png\">\n",
    "\n",
    "### Technical specification:\n",
    "- **accuracy:** 5-10cm\n",
    "- **position transmission rate:** 1 Hz\n",
    "- **server IP tasnsmission rate:** 0.52 Hz (once every 1.9 seconds)\n",
    "\n",
    "\n",
    "\n",
    "**`Note:`** The freq. of the transmission could be changed in the feauture."
   ]
  },
  {
   "cell_type": "markdown",
   "metadata": {},
   "source": [
    "## BFMC_GPS package"
   ]
  },
  {
   "cell_type": "markdown",
   "metadata": {},
   "source": [
    " This piece of software will come in a package `BFMC_GPS`. \n"
   ]
  },
  {
   "cell_type": "markdown",
   "metadata": {},
   "source": [
    "### Client side example code"
   ]
  },
  {
   "cell_type": "markdown",
   "metadata": {},
   "source": [
    "In this section, I will show a demo code for the client side, by this, I mean how to connect to the server and listen for its messages. This file can be found in `BFMC/client/CarClient.py`.\n",
    "\n",
    "This part should run on your car.\n",
    "\n",
    "The application is splitted into 3 threads: \n",
    "    - one resonsable for listening to the \"I am the server\" message and tring to authenticate to the server node\n",
    "    - one resposible for listening to the data that the server transmits (position and orientation)\n",
    "    - main thread, where the other threads launch"
   ]
  },
  {
   "cell_type": "markdown",
   "metadata": {},
   "source": [
    "Import the libraries that we will use:"
   ]
  },
  {
   "cell_type": "code",
   "execution_count": 1,
   "metadata": {},
   "outputs": [],
   "source": [
    "import os\n",
    "import sys\n",
    "\n",
    "from math       import  *\n",
    "from random     import  *\n",
    "from socket     import  *\n",
    "from threading  import  Thread\n",
    "from time       import  *"
   ]
  },
  {
   "cell_type": "markdown",
   "metadata": {},
   "source": [
    "We can use the `socket` library in order for us to see the local IP and the hostname:\n",
    "\n",
    "(only compatible on Unix systems)"
   ]
  },
  {
   "cell_type": "code",
   "execution_count": 2,
   "metadata": {},
   "outputs": [
    {
     "ename": "IndexError",
     "evalue": "list index out of range",
     "output_type": "error",
     "traceback": [
      "\u001b[1;31m---------------------------------------------------------------------------\u001b[0m",
      "\u001b[1;31mIndexError\u001b[0m                                Traceback (most recent call last)",
      "\u001b[1;32m<ipython-input-2-41aac99a2f60>\u001b[0m in \u001b[0;36m<module>\u001b[1;34m\u001b[0m\n\u001b[0;32m      2\u001b[0m \u001b[1;33m\u001b[0m\u001b[0m\n\u001b[0;32m      3\u001b[0m \u001b[0ms\u001b[0m  \u001b[1;33m=\u001b[0m  \u001b[0msocket\u001b[0m\u001b[1;33m(\u001b[0m\u001b[0mAF_INET\u001b[0m\u001b[1;33m,\u001b[0m\u001b[0mSOCK_DGRAM\u001b[0m\u001b[1;33m)\u001b[0m\u001b[1;33m\u001b[0m\u001b[1;33m\u001b[0m\u001b[0m\n\u001b[1;32m----> 4\u001b[1;33m \u001b[0ms\u001b[0m\u001b[1;33m.\u001b[0m\u001b[0mconnect\u001b[0m\u001b[1;33m(\u001b[0m\u001b[1;33m(\u001b[0m\u001b[0mgw\u001b[0m\u001b[1;33m[\u001b[0m\u001b[1;36m2\u001b[0m\u001b[1;33m]\u001b[0m\u001b[1;33m,\u001b[0m\u001b[1;36m0\u001b[0m\u001b[1;33m)\u001b[0m\u001b[1;33m)\u001b[0m\u001b[1;33m\u001b[0m\u001b[1;33m\u001b[0m\u001b[0m\n\u001b[0m\u001b[0;32m      5\u001b[0m \u001b[1;33m\u001b[0m\u001b[0m\n\u001b[0;32m      6\u001b[0m \u001b[0mHOST_NAME\u001b[0m \u001b[1;33m=\u001b[0m \u001b[0mgethostname\u001b[0m\u001b[1;33m(\u001b[0m\u001b[1;33m)\u001b[0m\u001b[1;33m\u001b[0m\u001b[1;33m\u001b[0m\u001b[0m\n",
      "\u001b[1;31mIndexError\u001b[0m: list index out of range"
     ]
    }
   ],
   "source": [
    "gw =  os.popen(\"ip -4 route show default\").read().split()\n",
    "\n",
    "s  =  socket(AF_INET,SOCK_DGRAM)\n",
    "s.connect((gw[2],0))\n",
    "\n",
    "HOST_NAME = gethostname()\n",
    "HOST_IP   = s.getsockname()[0]\n",
    "\n",
    "s.close()\n",
    "\n",
    "print(\"Host name:\"+str(HOST_NAME)+\" IP:\"+str(HOST_IP))"
   ]
  },
  {
   "cell_type": "markdown",
   "metadata": {},
   "source": [
    "After that, we define and configure some global parameters:\n",
    "\n",
    "In this area we will specify :\n",
    "   - the data regarding your car(ID, IP, and HOSTNAME)\n",
    "   - we will set the ports for negociation, for subscription and for communication. **`Note`** this should be left unchanged.\n",
    "   - the car initial position and orientation\n",
    "   - some utility flags"
   ]
  },
  {
   "cell_type": "code",
   "execution_count": null,
   "metadata": {},
   "outputs": [],
   "source": [
    "THIS_CAR_ID                 =  7                        # car marker ID attached to the car\n",
    "MAX_WAIT_TIME_FOR_SERVER    =  5\n",
    "\n",
    "#communication parameters\n",
    "SERVER_IP                   =  None                       # current server ip\n",
    "NEGOTIATION_PORT            =  12346                      # base port that we will use(listen for server)\n",
    "CAR_SUBSCRITPION_PORT       =  NEGOTIATION_PORT + 2       # auth port      CAR -> GPS position\n",
    "CAR_COMMUNICATION_PORT      =  CAR_SUBSCRITPION_PORT + 2  # port           GPS -> CAR\n",
    "G_Socket_Poz                =  socket()                   # socket used for communication\n",
    "\n",
    "NEW_SERVER_IP               =  False\n",
    "car_id                      =  THIS_CAR_ID\n",
    "\n",
    "#flags                                                    \n",
    "ID_SENT_FLAG                =  False                      # used for checking if the ip was sent for auth\n",
    "START_UP                    =  True                        \n",
    "RUN_CARCLIENT               =  True                       \n",
    "\n",
    "#car related data\n",
    "carOrientation              =  0+0j                       # car orientation  (complex number)\n",
    "carPos                      =  0+0j                       # car position (complex number)"
   ]
  },
  {
   "cell_type": "markdown",
   "metadata": {},
   "source": [
    "This function will run in a thread. It will be responsible for listening for the server's IP."
   ]
  },
  {
   "cell_type": "code",
   "execution_count": null,
   "metadata": {},
   "outputs": [],
   "source": [
    "def GetServer():\n",
    "    '''\n",
    "        Method used for listening for the server IP and trying to register to it. Note that the server may change.\n",
    "    '''\n",
    "\n",
    "    global SERVER_IP\n",
    "    global NEGOTIATION_PORT\n",
    "    global NEW_SERVER_IP\n",
    "    global G_Socket_Poz\n",
    "    global START_UP\n",
    "    global ID_SENT_FLAG\n",
    "    global RUN_CARCLIENT\n",
    "    \n",
    "    while RUN_CARCLIENT:\n",
    "        try:\n",
    "            s = socket(AF_INET, SOCK_DGRAM)\n",
    "            s.bind(('', NEGOTIATION_PORT))\n",
    "            s.setsockopt(SOL_SOCKET, SO_BROADCAST, 1)\n",
    "\n",
    "            t       =  time()\n",
    "            server  =  []\n",
    "\n",
    "            # Listen for server broadcast. \n",
    "            s.settimeout(MAX_WAIT_TIME_FOR_SERVER)\n",
    "\n",
    "            # Receive data from the socket. Buffer size = 1500 bytes\n",
    "            data, server_ip = s.recvfrom(1500, 0)\n",
    "\n",
    "            # Get server IP                          \n",
    "            if server_ip[0] != SERVER_IP:\n",
    "                # new server\n",
    "                SendIDToServer(server_ip[0])\n",
    "                NEW_SERVER_IP   =   True\n",
    "                SERVER_IP       =   server_ip[0] # server is alive\n",
    "                START_UP        =   False\n",
    "\n",
    "            else:\n",
    "                # old server\n",
    "                if ID_SENT_FLAG == False:\n",
    "                    SendIDToServer(server_ip[0])\n",
    "                    print(\"Subscribe @ GPS server\")\n",
    "                NEW_SERVER_IP = False\n",
    "                # Server beacon received\n",
    "                s.close()\n",
    "            \n",
    "        except Exception as e:\n",
    "            SERVER_IP = None # Server is dead.\n",
    "            if START_UP == False and SERVER_IP == None and NEW_SERVER_IP == True:\n",
    "                G_Socket_Poz.close()\n",
    "                G_Socket_Poz = None\n",
    "                print(\"Socket from get position server closed!\")\n",
    "                \n",
    "            print (\"Not connected to server! IP: \" + str(SERVER_IP) + \n",
    "                    \"! Error:\" + str(e)\n",
    "                    )\n",
    "\n",
    "            s.close()"
   ]
  },
  {
   "cell_type": "markdown",
   "metadata": {},
   "source": [
    "This is an utility function that will send your IP and Aruco Markers ID to the server."
   ]
  },
  {
   "cell_type": "code",
   "execution_count": null,
   "metadata": {},
   "outputs": [],
   "source": [
    "def SendIDToServer(new_server_ip):\n",
    "    '''Send the car id to server for identification. \n",
    "    \n",
    "    Arguments:\n",
    "        new_server_ip {[type]} -- the ip of the new server\n",
    "    '''\n",
    "\n",
    "    global SERVER_IP\n",
    "    global CAR_SUBSCRITPION_PORT\n",
    "    global THIS_CAR_ID\n",
    "    global ID_SENT_FLAG\n",
    "\n",
    "    try:\n",
    "        # Open connection to server.\n",
    "        s = socket()         \n",
    "        print(\"Vehicle \" + str(THIS_CAR_ID) + \n",
    "                \" subscribing to GPS server: \" + str(new_server_ip) +\n",
    "                \":\"+ str(CAR_SUBSCRITPION_PORT)\n",
    "            )\n",
    "\n",
    "        s.connect((new_server_ip, CAR_SUBSCRITPION_PORT))\n",
    "        sleep(2) \n",
    "        car_id_str = str(THIS_CAR_ID)\n",
    "        s.send(bytes(car_id_str, \"UTF-8\"))\n",
    "        # Shut down conn. Further sends are disallowed.\n",
    "        s.shutdown(SHUT_WR)\n",
    "        s.close()\n",
    "        print(\"Vehicle ID sent to server----------------------------\")\n",
    "        ID_SENT_FLAG = True\n",
    "\n",
    "    except Exception as e:\n",
    "        print(\"Failed to send ID to server, with error: \" + str(e))\n",
    "        s.close()\n",
    "        ID_SENT_FLAG = False"
   ]
  },
  {
   "cell_type": "markdown",
   "metadata": {},
   "source": [
    "This is the thread that will get you the information for your car from the server node:\n",
    "\n",
    "The server will send you the message in the following form:\n",
    "> id:{`<car_id>`};Pos:({`<real_pos>`}+{`<imag_pos>`}j);Azm:({`<real_azm>`}+{`<imag_azm>`}j)\n",
    "\n",
    "Where :\n",
    "    - <car_id> - int\n",
    "    - <real_pos> - float with 2 decimals precission (position on X axis)\n",
    "    - <imag_pos> - float with 2 decimals precission (position on Y axis)\n",
    "    - <real_azm> - float with 2 decimals precission (first point of a vector denoting orientation)\n",
    "    - <imag_azm> - float with 2 decimals precission (second first point of a vector denoting orientation)"
   ]
  },
  {
   "cell_type": "code",
   "execution_count": null,
   "metadata": {},
   "outputs": [],
   "source": [
    "#================================ GET DATA ====================================\n",
    "def GetPositionDataFromServer_Thread():\n",
    "    '''\n",
    "    Utility function for receiving the car position and orientation from the server.\n",
    "    '''\n",
    "\n",
    "    global car_id\n",
    "    global carPos\n",
    "    global carOrientation\n",
    "    global SERVER_IP\n",
    "    global NEW_SERVER_IP\n",
    "    global THIS_CAR_ID\n",
    "    global CAR_COMMUNICATION_PORT\n",
    "    global G_Socket_Poz\n",
    "    global RUN_CARCLIENT\n",
    "\n",
    "    while RUN_CARCLIENT:\n",
    "        if SERVER_IP != None: # If server alive/valid\n",
    "            if NEW_SERVER_IP == True:\n",
    "                try:\n",
    "                    G_Socket_Poz.close()\n",
    "                    G_Socket_Poz=None\n",
    "                except:\n",
    "                    # Do nothing.\n",
    "                    print(\"Previous socket cound not be closed.\")\n",
    "            if G_Socket_Poz==None:\n",
    "                # Server changed.\n",
    "                try:\n",
    "                    # If there is a GPS server available then open a socket and then wait for GPS data.\n",
    "                    print(\"Attempting to create new socket to receive the position from server \"+str(HOST_IP)+\":\"+str(CAR_COMMUNICATION_PORT))\n",
    "                    #G_Socket_Poz = socket()   \n",
    "                    G_Socket_Poz = socket(AF_INET, SOCK_STREAM)\n",
    "                    # Set socket flag socket.SO_REUSEADDR for preventing \"[Errno 98] Address already in use\" error\n",
    "                    # when restarting application \n",
    "                    G_Socket_Poz.setsockopt(SOL_SOCKET, SO_REUSEADDR, 1)\n",
    "                    G_Socket_Poz.bind((HOST_IP, CAR_COMMUNICATION_PORT))      \n",
    "                    G_Socket_Poz.listen(2)\n",
    "\n",
    "                    NEW_SERVER_IP = False\n",
    "                \n",
    "                except Exception as e:\n",
    "                    print(\"Creating new socket for get position from server \" + str(SERVER_IP) + \" failed with error: \"+str(e))\n",
    "                    sleep(1)\n",
    "                    G_Socket_Poz = None\n",
    "            \n",
    "            if not G_Socket_Poz == None:\n",
    "                # Server did not change.\n",
    "                try:\n",
    "                    c, addr =    G_Socket_Poz.accept()\n",
    "                    # raw message   \n",
    "                    data    =    str(c.recv(4096))   \n",
    "                    # mesage parsing\n",
    "                    car_id  =    int(data.split(';')[0].split(':')[1])\n",
    "                    \n",
    "                    if car_id == THIS_CAR_ID:\n",
    "                        # Compute car position.\n",
    "                        carPos = complex(float(data.split(';')[1].split(':')[1].split('(')[1].split('+')[0]), float(data.split(';')[1].split(':')[1].split('j')[0].split('+')[1]))\n",
    "                        # Compute car orientation.\n",
    "                        carOrientation = complex(float(data.split(';')[2].split(':')[1].split('(')[1].split('+')[0]), float(data.split(';')[2].split(':')[1].split('j')[0].split('+')[1]))\n",
    "                        \n",
    "                        print(\"id:\" + str(car_id) + \" -position: \" + str(carPos) + \" -orientation: \" + str(carOrientation))\n",
    "                    c.close()\n",
    "\n",
    "                except Exception as e:\n",
    "                        print(\"Receiving position data from server \" + str(SERVER_IP) + \" failed with error: \" + str(e))\n",
    "                        c.close()"
   ]
  },
  {
   "cell_type": "markdown",
   "metadata": {},
   "source": [
    "This is the main thread, where all the other threads are launched."
   ]
  },
  {
   "cell_type": "code",
   "execution_count": null,
   "metadata": {},
   "outputs": [],
   "source": [
    "global RUN_CARCLIENT\n",
    "print(\"First start up of vehicle client ...\")\n",
    "\n",
    "# thread responsible for subscribing to GPS server\n",
    "connection_thread = Thread(target = GetServer)\n",
    "\n",
    "# thread responsible for receiving GPS data from server\n",
    "position_thread = Thread(target = GetPositionDataFromServer_Thread)\n",
    "\n",
    "try:\n",
    "    # start all threads\n",
    "    connection_thread.start()\n",
    "    position_thread.start()\n",
    "    while RUN_CARCLIENT:\n",
    "        print(\"Running\")\n",
    "        sleep(30)\n",
    "except KeyboardInterrupt as e:\n",
    "    RUN_CARCLIENT=False\n",
    "    try:\n",
    "        global G_Socket_Poz\n",
    "        G_Socket_Poz.close()\n",
    "        print(\"\\nClient socket closed!\")\n",
    "\n",
    "    except:\n",
    "        print(\"Cannot close client socket!\")\n",
    "        pass\n",
    "\n",
    "    print(\"KeyboardInterrupt!!\")\n",
    "    pass"
   ]
  },
  {
   "cell_type": "markdown",
   "metadata": {},
   "source": [
    "# The server-side of or GPS system"
   ]
  },
  {
   "cell_type": "markdown",
   "metadata": {},
   "source": [
    "In order for you to be able to test the communication with our system, we have developed a simulated GPS that you should be able to run from your computer. \n",
    "\n",
    "#### `NOTE` IT IS A SIMULATION! IT WON\"T SHOW YOU THE ACTUAL POSITION AND ORIENTATION OF YOUR CAR!\n"
   ]
  },
  {
   "cell_type": "markdown",
   "metadata": {},
   "source": [
    "## How to run the simulated GPS\n",
    "\n",
    "In this section I will show you how to launch the simulated GPS.\n",
    "For this you wil have to launch 2 parts: the server side which will run on your computer and the client side which will run on the RaspberryPi.\n",
    "\n",
    "1. For server-side:\n",
    "    - copy the BFMC_GPS in your working directory on your computer (must be Unix):\n",
    "    - go to BFMC_GPS directory\n",
    "    - execute `python3 gps.py`\n",
    "\n",
    "2. For the client-side:\n",
    "    - copy the BFMC_GPS in your working directory on your car's RaspberryPi\n",
    "    - go to BFMC_GPSclient directory\n",
    "    - execute `python3 CarClient.py`\n",
    "    \n",
    "As from now, on the client side you should be able to see the received messages.\n",
    "\n",
    "### Common problems\n",
    "    - make sure that you run both sides on an Unix env(i.e. Ubuntu)\n",
    "    - make sure that both component are connected to the same network"
   ]
  },
  {
   "cell_type": "markdown",
   "metadata": {},
   "source": [
    "## Simulated part"
   ]
  },
  {
   "cell_type": "markdown",
   "metadata": {},
   "source": [
    "In this part I am going to explain you who is responsible for sending simulated data and how to modify it as you please.\n",
    "\n",
    "By default, the system is programmed to send you the coordinates for a circular trajectory. The car ID should be within range [0,30].\n",
    "\n",
    "The code responsible for this is located in `BFMC_GPS/gps/SimulatorClient.py`"
   ]
  },
  {
   "cell_type": "markdown",
   "metadata": {},
   "source": [
    "If you would like to send a custom trajectory via the GPS, you can do that by modifyng the following method:\n",
    "    - SimulatorClient.points()\n",
    "    \n",
    "This should return a list of complex numbers generated according to your trajectory."
   ]
  }
 ],
 "metadata": {
  "kernelspec": {
   "display_name": "Python 3",
   "language": "python",
   "name": "python3"
  },
  "language_info": {
   "codemirror_mode": {
    "name": "ipython",
    "version": 3
   },
   "file_extension": ".py",
   "mimetype": "text/x-python",
   "name": "python",
   "nbconvert_exporter": "python",
   "pygments_lexer": "ipython3",
   "version": "3.6.7"
  }
 },
 "nbformat": 4,
 "nbformat_minor": 2
}
