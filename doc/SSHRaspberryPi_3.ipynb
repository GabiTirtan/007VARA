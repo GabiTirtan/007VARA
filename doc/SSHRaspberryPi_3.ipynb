{
 "cells": [
  {
   "cell_type": "markdown",
   "metadata": {},
   "source": [
    "# Connect to Raspberry Pi via SSH"
   ]
  },
  {
   "cell_type": "markdown",
   "metadata": {},
   "source": [
    "In this part I am going to show you how to connect to you RaspberryPi via SSH.\n",
    "\n",
    "**In order to communicate with your Raspberry, you will have to:**\n",
    "  1. Connect the RaspberryPi to your network.\n",
    "  2. Connect to your Raspberry Pi via SSH\n",
    "  \n"
   ]
  },
  {
   "cell_type": "markdown",
   "metadata": {},
   "source": [
    "### Step 1: Connect the RaspberryPi to your network\n",
    "\n",
    "In order to be able to connect to your Pi, you 'll have to  be connected to the same network. \n",
    "\n",
    "If you do not know how to connect your Raspberry to the network, please refer to this [this](./ConnectRaspberryToWifi.ipynb) tutorial.\n",
    "\n"
   ]
  },
  {
   "cell_type": "markdown",
   "metadata": {},
   "source": [
    "### 2. Connect to your Raspberry Pi via SSH"
   ]
  },
  {
   "cell_type": "markdown",
   "metadata": {},
   "source": [
    "#### What is SSH?\n",
    "\n",
    "SSH comes from Secure Shell communication.\n",
    "\n",
    "The formal definition: \n",
    "> SSH is a cryptographic protocol and interface for executing network services, shell services and secure network communication with a remote computer. It enables two remotely connected users to perform network communication and other services on top of an unsecured network.  - a smart guy.\n",
    "\n",
    "The informal definition:\n",
    "> SSH enables a user to securely log on to a remote computer and perform shell and network services. - another smart guy.\n",
    "\n",
    "From our point this is more than enough theory for you but, if you want to read more, you can do so at [this link](https://www.ssh.com/ssh/).\n"
   ]
  },
  {
   "cell_type": "markdown",
   "metadata": {},
   "source": [
    "## How to connect via SHH? \n",
    "\n",
    "In this section I will show you how to use SSH on Windows 10 and Ubuntu 16.04/18.04. \n",
    "\n",
    "The basic syntax of SSH command:\n",
    "```\n",
    "ssh <user>@<ip>\n",
    "```\n",
    "\n"
   ]
  },
  {
   "cell_type": "markdown",
   "metadata": {},
   "source": [
    "#### Windows\n",
    "First of all, you'll need to have installed on your computer a SSH client. \n",
    "By default, on Windows 10, you should be able to access acces or connect via a CommandLine or PowerShell terminal. To check and find out, try running the command:\n",
    "```\n",
    "ssh \n",
    "```\n",
    "\n",
    "If it shows you the help menu, you should be able to connect to your RaspberryPi via the command:\n",
    "```bach\n",
    "ssh <user>@<ip>\n",
    "```\n",
    "\n",
    "If that is not the case for you, we reccomend you to install WinScp. It is a free program with a TotalCommander like interface. It will be very handy in your development in checking the accesing the RaspberryPi file system. The installation guide and the download link can be found [here](https://winscp.net/eng/download.php)."
   ]
  },
  {
   "cell_type": "markdown",
   "metadata": {},
   "source": [
    "##### WinScp\n",
    "\n",
    "After you have installed the program, you fire it up and you should see something like this. To configure it for your Raspberry, set the following:\n",
    "\n",
    "- **File protocol:** SFTP\n",
    "- **Host Name:** your raspberry ip\n",
    "- **Port Number:** 22\n",
    "- **User Name:** pi (or what your current username on the Raspberry is)\n",
    "- **Password:** the password that you set on the Raspberry\n",
    "\n",
    "<img src=\"./images/winscp/connect_ssh1.png\" width=500px>\n"
   ]
  },
  {
   "cell_type": "markdown",
   "metadata": {},
   "source": [
    "Click `Login` and you will be prompted with the following window, where you should input again your Raspberry password.\n",
    "<img src=\"./images/winscp/connect_ssh2.png\" width=500px>\n"
   ]
  },
  {
   "cell_type": "markdown",
   "metadata": {},
   "source": [
    "After you are logged in, on the right you should see the RaspberryPi files. You should be able to run a SSH terminal by clicking the `Open session via Putty` button or by pressing `Ctrl+P`.\n",
    "<img src=\"./images/winscp/connect_ssh3.png\" width=500px>\n"
   ]
  },
  {
   "cell_type": "markdown",
   "metadata": {},
   "source": [
    "From here you should be able to run anything you want.\n",
    "<img src=\"./images/winscp/connect_ssh4.png\" width=500px>"
   ]
  },
  {
   "cell_type": "markdown",
   "metadata": {},
   "source": [
    "#### Ubuntu\n",
    "\n",
    "Ubuntu comes with native support for SSH. Just fire up a terminal and write:\n",
    "```bash\n",
    "ssh pi@<ip>\n",
    "```\n",
    "and you should be ready to go.\n",
    "\n",
    "If you would like a GUI for the Raspberry filesystem, you could use Nautilus from your computer and login from there using the `sftp` protocol."
   ]
  }
 ],
 "metadata": {
  "kernelspec": {
   "display_name": "Python 3",
   "language": "python",
   "name": "python3"
  },
  "language_info": {
   "codemirror_mode": {
    "name": "ipython",
    "version": 3
   },
   "file_extension": ".py",
   "mimetype": "text/x-python",
   "name": "python",
   "nbconvert_exporter": "python",
   "pygments_lexer": "ipython3",
   "version": "3.6.7"
  }
 },
 "nbformat": 4,
 "nbformat_minor": 2
}
